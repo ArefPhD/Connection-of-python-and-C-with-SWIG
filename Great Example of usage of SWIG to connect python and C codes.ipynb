{
  "cells": [
    {
      "cell_type": "markdown",
      "metadata": {
        "id": "VJNtf1HvPpvA"
      },
      "source": [
        "# SWIG and Ctypes\n",
        " \n",
        "Interfacing Fortran code through C interface"
      ]
    },
    {
      "cell_type": "markdown",
      "metadata": {
        "id": "yCOIVKtfPpvD"
      },
      "source": [
        "\n",
        "I found [this reference](https://www.fortran90.org/src/best-practices.html#interfacing-with-python) with good examples."
      ]
    },
    {
      "cell_type": "markdown",
      "metadata": {
        "id": "dmETsYUTPpvE"
      },
      "source": [
        "## Problem: Collatz conjecture\n",
        "\n",
        " -  Choose $u_0$ \n",
        " -  If $u_k$ even, $u_{k+1} \\rightarrow \\frac{u_k}{2}$ ;\n",
        " -  If $u_k$ odd,  $u_{k+1}  \\rightarrow 3 u_k+1$\n",
        " \n",
        " - The Collatz conjecture is: For all  $u_0>0$ , the process will eventually reach $u_k=1$.\n",
        " - The programs below compute number of steps (named flight) to reach $f(u_0)$ for $1\\leq u_0 \\leq N$, $N$ given.\n",
        " \n",
        "[The Collatz conjecture on Wikipedia](https://en.wikipedia.org/wiki/Collatz_conjecture)"
      ]
    },
    {
      "cell_type": "markdown",
      "metadata": {
        "id": "4ruiiX6CPpvF"
      },
      "source": [
        "## C program"
      ]
    },
    {
      "cell_type": "code",
      "execution_count": 1,
      "metadata": {
        "id": "ymG4hfkIPpvF",
        "outputId": "00cd8718-af1e-47bb-b65e-060da3f28ba9",
        "colab": {
          "base_uri": "https://localhost:8080/"
        }
      },
      "outputs": [
        {
          "output_type": "stream",
          "name": "stdout",
          "text": [
            "Writing syracuse.c\n"
          ]
        }
      ],
      "source": [
        "%%file syracuse.c\n",
        "#include <stdlib.h> \n",
        "#include <stdio.h>\n",
        "long syracuse(long n) { \n",
        "   long count = 0L ; \n",
        "   while (n > 1) {\n",
        "      if ((n&1)==0) \n",
        "          n /= 2; \n",
        "      else \n",
        "          n = 3*n+1; \n",
        "      count++;   \n",
        "   }\n",
        "   return count ; \n",
        "}\n",
        "\n",
        "int main() {\n",
        "   const long N = 1000000; \n",
        "   double t1, t2;\n",
        "   long i , *flights ;\n",
        "   flights = (long*)malloc(N*sizeof(long));\n",
        "   for (i = 0; i <N; i++) flights[i] = syracuse(i+1); \n",
        "   return EXIT_SUCCESS;\n",
        "}"
      ]
    },
    {
      "cell_type": "code",
      "execution_count": 2,
      "metadata": {
        "id": "Wn610Sm6PpvG",
        "outputId": "7e40fb85-0eac-43b4-b68f-c4d7a0643fb5",
        "colab": {
          "base_uri": "https://localhost:8080/"
        }
      },
      "outputs": [
        {
          "output_type": "stream",
          "name": "stderr",
          "text": [
            "\n",
            "real\t0m0.003s\n",
            "user\t0m0.001s\n",
            "sys\t0m0.001s\n"
          ]
        }
      ],
      "source": [
        "%%bash\n",
        "gcc -O3 syracuse.c \n",
        "time ./a.out"
      ]
    },
    {
      "cell_type": "markdown",
      "metadata": {
        "id": "Mi6SesSSPpvH"
      },
      "source": [
        "## Python program"
      ]
    },
    {
      "cell_type": "code",
      "execution_count": 3,
      "metadata": {
        "id": "um5sESqaPpvH",
        "outputId": "d19a1c6e-e202-4859-ad77-33e5741e6a9a",
        "colab": {
          "base_uri": "https://localhost:8080/"
        }
      },
      "outputs": [
        {
          "output_type": "stream",
          "name": "stdout",
          "text": [
            "CPU times: user 17.6 s, sys: 67.7 ms, total: 17.7 s\n",
            "Wall time: 17.8 s\n"
          ]
        }
      ],
      "source": [
        "%%time\n",
        "\n",
        "from itertools import count\n",
        "\n",
        "def syracuse(n):\n",
        "    x = n\n",
        "    for steps in count() :\n",
        "        if x & 1 : \n",
        "            x = 3*x+1\n",
        "        else:\n",
        "            x = x // 2\n",
        "            \n",
        "        if x == 1:\n",
        "            return steps\n",
        "\n",
        "N = 1000000\n",
        "flights = [syracuse(i) for i in range(1,N+1)]"
      ]
    },
    {
      "cell_type": "markdown",
      "metadata": {
        "id": "-O6J0Lk0PpvI"
      },
      "source": [
        "## Performances\n",
        "\n",
        "- The python syntax is simpler.\n",
        "- 100 times slower\n",
        "- Solution : call the C function from python."
      ]
    },
    {
      "cell_type": "markdown",
      "metadata": {
        "id": "qeWcrTn0PpvJ"
      },
      "source": [
        "## Ctypes\n",
        "\n",
        "This is the C function we will call from python"
      ]
    },
    {
      "cell_type": "code",
      "execution_count": 4,
      "metadata": {
        "id": "fU7cXQWLPpvJ",
        "outputId": "64bdf09f-3301-450f-ebea-b9018024ae4c",
        "colab": {
          "base_uri": "https://localhost:8080/"
        }
      },
      "outputs": [
        {
          "output_type": "stream",
          "name": "stdout",
          "text": [
            "Writing syrac.c\n"
          ]
        }
      ],
      "source": [
        "%%file syrac.c\n",
        "\n",
        "long syracuse(long n)\n",
        "{ \n",
        "   long count = 0L ; \n",
        "   while (n > 1)\n",
        "   {\n",
        "      if ((n&1)==0) \n",
        "         n /= 2; \n",
        "      else \n",
        "         n = 3*n+1; \n",
        "      count++;   \n",
        "   }\n",
        "   return count ; \n",
        "}"
      ]
    },
    {
      "cell_type": "markdown",
      "metadata": {
        "id": "6nS6vSkDPpvJ"
      },
      "source": [
        "Build the shared library"
      ]
    },
    {
      "cell_type": "code",
      "execution_count": 5,
      "metadata": {
        "id": "3H-WI35IPpvJ"
      },
      "outputs": [],
      "source": [
        "%%bash\n",
        "gcc -fPIC -shared -O3 \\\n",
        "    -o syrac.so syrac.c"
      ]
    },
    {
      "cell_type": "code",
      "execution_count": 6,
      "metadata": {
        "id": "HK1L5tG5PpvK",
        "outputId": "cec46627-36b7-40aa-e27d-977a0848f1dd",
        "colab": {
          "base_uri": "https://localhost:8080/"
        }
      },
      "outputs": [
        {
          "output_type": "stream",
          "name": "stdout",
          "text": [
            "CPU times: user 552 ms, sys: 9.99 ms, total: 562 ms\n",
            "Wall time: 562 ms\n"
          ]
        }
      ],
      "source": [
        "%%time\n",
        "\n",
        "import time\n",
        "from ctypes import *\n",
        "\n",
        "syracDLL = CDLL(\"./syrac.so\")\n",
        "syracuse = syracDLL.syracuse\n",
        "\n",
        "flights = [syracuse(i) for i in range(1,N+1)]"
      ]
    },
    {
      "cell_type": "markdown",
      "metadata": {
        "id": "2Ss5-JfGPpvK"
      },
      "source": [
        "## Ctypes with Fortran module\n",
        "\n",
        "If you change the fortran file you have to restart the kernel"
      ]
    },
    {
      "cell_type": "code",
      "execution_count": null,
      "metadata": {
        "id": "aJ5KLkwaPpvK"
      },
      "outputs": [],
      "source": [
        "%%file syrac.F90\n",
        "\n",
        "module syrac_f90\n",
        "  use iso_c_binding\n",
        "  implicit none\n",
        "\n",
        "contains\n",
        "\n",
        "  function f_syrac(n) bind(c, name='c_syrac') result(f)\n",
        "    \n",
        "    integer(c_long) :: f\n",
        "    integer(c_long), intent(in), value :: n\n",
        "    integer(c_long) :: x\n",
        "    x = n\n",
        "    f = 0_8\n",
        "    do while(x>1)\n",
        "       if (iand(x,1_8) == 0) then\n",
        "          x = x / 2\n",
        "       else\n",
        "          x = 3*x+1\n",
        "       end if\n",
        "       f = f + 1_8\n",
        "    end do\n",
        "\n",
        "  end function f_syrac\n",
        "\n",
        "end module syrac_f90"
      ]
    },
    {
      "cell_type": "code",
      "execution_count": null,
      "metadata": {
        "id": "1PG1i7EUPpvL"
      },
      "outputs": [],
      "source": [
        "%%bash\n",
        "rm -f *.o *.so *.dylib\n",
        "gfortran -fPIC -shared -O3 -o syrac.dylib syrac.F90"
      ]
    },
    {
      "cell_type": "code",
      "execution_count": null,
      "metadata": {
        "id": "0CqecZ71PpvL"
      },
      "outputs": [],
      "source": [
        "from ctypes import *\n",
        "\n",
        "syrac_f90 = CDLL('./syrac.dylib')\n",
        "\n",
        "syrac_f90.c_syrac.restype = c_long\n",
        "\n",
        "syrac_f90.c_syrac(1000)"
      ]
    },
    {
      "cell_type": "code",
      "execution_count": null,
      "metadata": {
        "id": "a5Yv5iHOPpvL"
      },
      "outputs": [],
      "source": [
        "%%time\n",
        "N = 1000000\n",
        "flights = [syrac_f90.c_syrac(i) for i in range(1,N+1)]"
      ]
    },
    {
      "cell_type": "markdown",
      "metadata": {
        "id": "YIMlP49SPpvL"
      },
      "source": [
        "- Faster than pure Python\n",
        "- We can call function from DLL windows libraries.\n",
        "- Unfortunately you need to adapt the syntax to the operating system.\n",
        "\n",
        "http://docs.python.org/library/ctypes.html}"
      ]
    },
    {
      "cell_type": "markdown",
      "metadata": {
        "id": "nERksMyhPpvM"
      },
      "source": [
        "## SWIG"
      ]
    },
    {
      "cell_type": "markdown",
      "metadata": {
        "id": "drogmnlQPpvM"
      },
      "source": [
        "Interface file syrac.i for C function in syrac.c"
      ]
    },
    {
      "cell_type": "code",
      "execution_count": null,
      "metadata": {
        "lines_to_next_cell": 2,
        "id": "xiGz7oZJPpvM"
      },
      "outputs": [],
      "source": [
        "%%file syrac.i\n",
        "\n",
        "%module syracuseC\n",
        "%{\n",
        "   extern long syracuse(long n);\n",
        "%}\n",
        "extern long syracuse(long n);"
      ]
    },
    {
      "cell_type": "code",
      "execution_count": null,
      "metadata": {
        "id": "jZX4hr3WPpvM"
      },
      "outputs": [],
      "source": [
        "%%bash\n",
        "swig -python syrac.i"
      ]
    },
    {
      "cell_type": "markdown",
      "metadata": {
        "id": "-jUZVR2XPpvM"
      },
      "source": [
        "### Build the python module \n",
        "\n",
        "- Using command line\n",
        "\n",
        "```bash\n",
        "swig -python syrac.i\n",
        "\n",
        "gcc `python3-config --cflags` -fPIC \\\n",
        "  -shared -O3 -o _syracuseC.so syrac_wrap.c syrac.c `python3-config --ldflags`\n",
        " ```"
      ]
    },
    {
      "cell_type": "markdown",
      "metadata": {
        "id": "D00mJcjkPpvN"
      },
      "source": [
        "- With distutils"
      ]
    },
    {
      "cell_type": "code",
      "execution_count": null,
      "metadata": {
        "id": "bTBf31AKPpvN"
      },
      "outputs": [],
      "source": [
        "%%file setup.py\n",
        "from numpy.distutils.core import Extension, setup\n",
        "\n",
        "\n",
        "module_swig = Extension('_syracuseC', sources=['syrac_wrap.c', 'syrac.c'])\n",
        "\n",
        "setup( name='Syracuse',\n",
        "       version = '0.1.0',\n",
        "       author      = \"Pierre Navaro\",\n",
        "       description = \"\"\"Simple C Fortran interface example \"\"\",\n",
        "       ext_modules = [module_swig],\n",
        ")"
      ]
    },
    {
      "cell_type": "code",
      "execution_count": null,
      "metadata": {
        "id": "SkHRI6qLPpvN"
      },
      "outputs": [],
      "source": [
        "import sys, os\n",
        "\n",
        "if sys.platform == \"darwin\":\n",
        "    os.environ[\"CC\"] = \"gcc-10\"\n",
        "    \n",
        "!{sys.executable} setup.py build_ext --inplace --quiet"
      ]
    },
    {
      "cell_type": "code",
      "execution_count": null,
      "metadata": {
        "id": "xLPtaL7VPpvN"
      },
      "outputs": [],
      "source": [
        "import _syracuseC\n",
        "\n",
        "syracuse = _syracuseC.syracuse\n",
        "syracuse(1000)"
      ]
    },
    {
      "cell_type": "code",
      "execution_count": null,
      "metadata": {
        "id": "1HbZkH8aPpvN"
      },
      "outputs": [],
      "source": [
        "%%time\n",
        "N=1000000\n",
        "\n",
        "flights = [syracuse(i) for i in range(1,N+1)]"
      ]
    },
    {
      "cell_type": "markdown",
      "metadata": {
        "id": "oyYT0W2JPpvN"
      },
      "source": [
        "## References\n",
        "\n",
        " - [Interfacage C-Python par Xavier Juvigny](http://calcul.math.cnrs.fr/Documents/Ecoles/2010/InterfacagePython.pdf)\n",
        " - [Optimizing and interfacing with Cython par Konrad Hinsen](http://calcul.math.cnrs.fr/Documents/Ecoles/2010/cours_cython.pdf)\n",
        " - Python Scripting for Computational Science de Hans Petter Langtangen chez Springer"
      ]
    }
  ],
  "metadata": {
    "kernelspec": {
      "display_name": "Python 3",
      "language": "python",
      "name": "python3"
    },
    "colab": {
      "name": "08.swig.ipynb",
      "provenance": []
    }
  },
  "nbformat": 4,
  "nbformat_minor": 0
}